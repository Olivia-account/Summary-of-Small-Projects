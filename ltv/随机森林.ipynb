{
 "cells": [
  {
   "cell_type": "code",
   "execution_count": 26,
   "metadata": {},
   "outputs": [],
   "source": [
    "import pandas as pd\n",
    "from sklearn.model_selection import train_test_split\n",
    "import joblib\n",
    "from sklearn.metrics import accuracy_score, confusion_matrix, mean_squared_error, r2_score\n",
    "import matplotlib.pyplot as plt\n",
    "from yellowbrick.classifier import ConfusionMatrix\n",
    "from sklearn.linear_model import LogisticRegression\n",
    "from sklearn.svm import SVR\n",
    "from sklearn.neighbors import KNeighborsClassifier\n",
    "from sklearn.naive_bayes import GaussianNB\n",
    "from sklearn.ensemble import RandomForestRegressor\n",
    "\n",
    "# 指定系统中已安装的中文字体，例如SimSun或Microsoft YaHei\n",
    "plt.rcParams['font.family'] = 'SimSun'\n",
    "\n",
    "# 如果您需要显示中文标签，可以设置以下参数\n",
    "plt.rcParams['axes.unicode_minus'] = False  # 处理坐标轴负号显示问题"
   ]
  },
  {
   "cell_type": "markdown",
   "metadata": {},
   "source": [
    "第0天的所有数字特征 预测 第168天的 ltv"
   ]
  },
  {
   "cell_type": "code",
   "execution_count": 14,
   "metadata": {},
   "outputs": [
    {
     "name": "stderr",
     "output_type": "stream",
     "text": [
      "C:\\Users\\19hmz\\AppData\\Local\\Temp\\ipykernel_19752\\3715486654.py:28: UserWarning: Boolean Series key will be reindexed to match DataFrame index.\n",
      "  X_test = test[(data['week'] == 0)].drop(['order_dt', 'prd_id', 'dt'], axis=1)\n",
      "C:\\Users\\19hmz\\AppData\\Local\\Temp\\ipykernel_19752\\3715486654.py:29: UserWarning: Boolean Series key will be reindexed to match DataFrame index.\n",
      "  y_test = test[(data['week'] == 168)]['ltv']\n"
     ]
    },
    {
     "name": "stdout",
     "output_type": "stream",
     "text": [
      "(629, 14)\n",
      "(1586, 14)\n",
      "均方误差 (MSE): 6.6125385434089745\n",
      "R-squared (R2): 0.9290252671522606\n",
      "大于0.1的数量：251\n",
      "小于等于0.1的数量：378\n",
      "合格率： 0.6009538950715422\n"
     ]
    }
   ],
   "source": [
    "data = pd.read_csv('test3.csv', encoding='gbk')\n",
    "# 选取week为0或168的数据\n",
    "data = data[(data['week'] == 0) | (data['week'] == 168)]\n",
    "\n",
    "# 将\"order_dt\"列转换为日期类型\n",
    "data['order_dt'] = pd.to_datetime(data['order_dt'])\n",
    "\n",
    "# 创建条件来选择在指定日期范围内的数据\n",
    "start_date = pd.to_datetime(\"2022-09-01\")\n",
    "end_date = pd.to_datetime(\"2022-09-30\")\n",
    "mask_train = (data['order_dt'] >= start_date) & (data['order_dt'] <= end_date)\n",
    "mask_test = (~(data['order_dt'] >= start_date) & (data['order_dt'] <= end_date))\n",
    "\n",
    "# 应用条件并获取符合条件的数据\n",
    "# train = data[mask_train]\n",
    "train = data\n",
    "test = data[mask_test]\n",
    "\n",
    "X_train = train[(data['week'] == 0)].drop(['order_dt', 'prd_id', 'dt'], axis=1)\n",
    "y_train = train[(data['week'] == 168)]['ltv']\n",
    "\n",
    "X_test = test[(data['week'] == 0)].drop(['order_dt', 'prd_id', 'dt'], axis=1)\n",
    "y_test = test[(data['week'] == 168)]['ltv']\n",
    "\n",
    "# 打印筛选后的数据\n",
    "print(X_test.shape)\n",
    "print(X_train.shape)\n",
    "\n",
    "# 初始化随机森林模型\n",
    "model = RandomForestRegressor(n_estimators=100, random_state=42)\n",
    "\n",
    "# 训练模型\n",
    "model.fit(X_train, y_train)\n",
    "\n",
    "# 预测测试集中的LTV\n",
    "y_pred = model.predict(X_test)\n",
    "\n",
    "# 评估模型\n",
    "mse = mean_squared_error(y_test, y_pred)\n",
    "r2 = r2_score(y_test, y_pred)\n",
    "\n",
    "print(f\"均方误差 (MSE): {mse}\")\n",
    "print(f\"R-squared (R2): {r2}\")\n",
    "\n",
    "# 计算相对误差\n",
    "relative_errors = ((y_test - y_pred) / y_test).abs()\n",
    "\n",
    "# 将y_test和relative_errors转换为Series\n",
    "y_test_series = pd.DataFrame(y_test)\n",
    "relative_errors_series = pd.DataFrame(relative_errors)\n",
    "\n",
    "# 统计relative_errors中大于0.1的数量\n",
    "count_greater_than_0_1 = (relative_errors > 0.10).sum()\n",
    "\n",
    "# 统计relative_errors中小于等于0.1的数量\n",
    "count_less_than_or_equal_to_0_1 = (relative_errors <= 0.10).sum()\n",
    "\n",
    "print(f\"大于0.1的数量：{count_greater_than_0_1}\")\n",
    "print(f\"小于等于0.1的数量：{count_less_than_or_equal_to_0_1}\")\n",
    "print('合格率：', count_less_than_or_equal_to_0_1/(count_less_than_or_equal_to_0_1+count_greater_than_0_1))"
   ]
  },
  {
   "cell_type": "markdown",
   "metadata": {},
   "source": [
    "第0天的所有重要特征 预测 第168天的 ltv"
   ]
  },
  {
   "cell_type": "code",
   "execution_count": 15,
   "metadata": {},
   "outputs": [
    {
     "name": "stderr",
     "output_type": "stream",
     "text": [
      "C:\\Users\\19hmz\\AppData\\Local\\Temp\\ipykernel_19752\\4008968120.py:22: UserWarning: Boolean Series key will be reindexed to match DataFrame index.\n",
      "  X_test = test[(data['week'] == 0)].drop(['order_dt', 'week', 'prd_id', 'dt', 'ltv', 'arpu', 'ltv系数'], axis=1)\n",
      "C:\\Users\\19hmz\\AppData\\Local\\Temp\\ipykernel_19752\\4008968120.py:23: UserWarning: Boolean Series key will be reindexed to match DataFrame index.\n",
      "  y_test = test[(data['week'] == 168)]['ltv']\n"
     ]
    },
    {
     "name": "stdout",
     "output_type": "stream",
     "text": [
      "(629, 10)\n",
      "(1586, 10)\n",
      "均方误差 (MSE): 6.931386989766704\n",
      "R-squared (R2): 0.9256029531422026\n",
      "大于0.1的数量：260\n",
      "小于等于0.1的数量：369\n",
      "合格率： 0.5866454689984102\n"
     ]
    }
   ],
   "source": [
    "data = pd.read_csv('test3.csv', encoding='gbk')\n",
    "# 选取week为0或168的数据\n",
    "data = data[(data['week'] == 0) | (data['week'] == 168)]\n",
    "\n",
    "# 将\"order_dt\"列转换为日期类型\n",
    "data['order_dt'] = pd.to_datetime(data['order_dt'])\n",
    "\n",
    "# 创建条件来选择在指定日期范围内的数据\n",
    "start_date = pd.to_datetime(\"2022-09-01\")\n",
    "end_date = pd.to_datetime(\"2022-09-30\")\n",
    "mask_train = (data['order_dt'] >= start_date) & (data['order_dt'] <= end_date)\n",
    "mask_test = (~(data['order_dt'] >= start_date) & (data['order_dt'] <= end_date))\n",
    "\n",
    "# 应用条件并获取符合条件的数据\n",
    "# train = data[mask_train]\n",
    "train = data\n",
    "test = data[mask_test]\n",
    "\n",
    "X_train = train[(data['week'] == 0)].drop(['order_dt', 'week', 'prd_id', 'dt', 'ltv', 'arpu', 'ltv系数'], axis=1)\n",
    "y_train = train[(data['week'] == 168)]['ltv']\n",
    "\n",
    "X_test = test[(data['week'] == 0)].drop(['order_dt', 'week', 'prd_id', 'dt', 'ltv', 'arpu', 'ltv系数'], axis=1)\n",
    "y_test = test[(data['week'] == 168)]['ltv']\n",
    "\n",
    "# 打印筛选后的数据\n",
    "print(X_test.shape)\n",
    "print(X_train.shape)\n",
    "\n",
    "# 初始化随机森林模型\n",
    "model = RandomForestRegressor(n_estimators=100, random_state=42)\n",
    "\n",
    "# 训练模型\n",
    "model.fit(X_train, y_train)\n",
    "\n",
    "# 预测测试集中的LTV\n",
    "y_pred = model.predict(X_test)\n",
    "\n",
    "# 评估模型\n",
    "mse = mean_squared_error(y_test, y_pred)\n",
    "r2 = r2_score(y_test, y_pred)\n",
    "\n",
    "print(f\"均方误差 (MSE): {mse}\")\n",
    "print(f\"R-squared (R2): {r2}\")\n",
    "\n",
    "# 计算相对误差\n",
    "relative_errors = ((y_test - y_pred) / y_test).abs()\n",
    "\n",
    "# 将y_test和relative_errors转换为Series\n",
    "y_test_series = pd.DataFrame(y_test)\n",
    "relative_errors_series = pd.DataFrame(relative_errors)\n",
    "\n",
    "# 统计relative_errors中大于0.1的数量\n",
    "count_greater_than_0_1 = (relative_errors > 0.10).sum()\n",
    "\n",
    "# 统计relative_errors中小于等于0.1的数量\n",
    "count_less_than_or_equal_to_0_1 = (relative_errors <= 0.10).sum()\n",
    "\n",
    "print(f\"大于0.1的数量：{count_greater_than_0_1}\")\n",
    "print(f\"小于等于0.1的数量：{count_less_than_or_equal_to_0_1}\")\n",
    "print('合格率：', count_less_than_or_equal_to_0_1/(count_less_than_or_equal_to_0_1+count_greater_than_0_1))"
   ]
  },
  {
   "cell_type": "markdown",
   "metadata": {},
   "source": [
    "TODO：预测1-168的ltv"
   ]
  },
  {
   "cell_type": "code",
   "execution_count": 32,
   "metadata": {},
   "outputs": [
    {
     "name": "stderr",
     "output_type": "stream",
     "text": [
      "C:\\Users\\19hmz\\AppData\\Local\\Temp\\ipykernel_19752\\1331963697.py:20: UserWarning: Boolean Series key will be reindexed to match DataFrame index.\n",
      "  X_test = test[(data['week'] == 0)].drop(['order_dt', 'prd_id', 'dt'], axis=1)\n",
      "C:\\Users\\19hmz\\AppData\\Local\\Temp\\ipykernel_19752\\1331963697.py:21: UserWarning: Boolean Series key will be reindexed to match DataFrame index.\n",
      "  y_test = test[(data['week'] == 168)]['ltv']\n"
     ]
    },
    {
     "name": "stdout",
     "output_type": "stream",
     "text": [
      "(629, 14)\n",
      "(1586, 14)\n",
      "均方误差 (MSE): 6.8570229422482445\n",
      "R-squared (R2): 0.9264011289670318\n",
      "大于0.1的数量：243\n",
      "小于等于0.1的数量：386\n",
      "合格率： 0.6136724960254372\n"
     ]
    }
   ],
   "source": [
    "data = pd.read_csv('test3.csv', encoding='gbk')\n",
    "\n",
    "# 将\"order_dt\"列转换为日期类型\n",
    "data['order_dt'] = pd.to_datetime(data['order_dt'])\n",
    "\n",
    "# 创建条件来选择在指定日期范围内的数据\n",
    "start_date = pd.to_datetime(\"2022-09-01\")\n",
    "end_date = pd.to_datetime(\"2022-09-30\")\n",
    "# mask_train = (data['order_dt'] >= start_date) & (data['order_dt'] <= end_date)\n",
    "mask_test = (~(data['order_dt'] >= start_date) & (data['order_dt'] <= end_date))\n",
    "\n",
    "# 应用条件并获取符合条件的数据\n",
    "# train = data[mask_train]\n",
    "train = data\n",
    "test = data[mask_test]\n",
    "\n",
    "X_train = train[(data['week'] == 0)].drop(['order_dt', 'prd_id', 'dt'], axis=1)\n",
    "y_train = train[(data['week'] == 168)]['ltv']\n",
    "\n",
    "X_test = test[(data['week'] == 0)].drop(['order_dt', 'prd_id', 'dt'], axis=1)\n",
    "y_test = test[(data['week'] == 168)]['ltv']\n",
    "\n",
    "# 打印筛选后的数据\n",
    "print(X_test.shape)\n",
    "print(X_train.shape)\n",
    "\n",
    "# 初始化随机森林模型\n",
    "model = RandomForestRegressor(n_estimators=100, random_state=2)\n",
    "\n",
    "# 训练模型\n",
    "model.fit(X_train, y_train)\n",
    "\n",
    "# 预测测试集中的LTV\n",
    "y_pred = model.predict(X_test)\n",
    "\n",
    "# 评估模型\n",
    "mse = mean_squared_error(y_test, y_pred)\n",
    "r2 = r2_score(y_test, y_pred)\n",
    "\n",
    "print(f\"均方误差 (MSE): {mse}\")\n",
    "print(f\"R-squared (R2): {r2}\")\n",
    "\n",
    "# 计算相对误差\n",
    "relative_errors = ((y_test - y_pred) / y_test).abs()\n",
    "\n",
    "# 将y_test和relative_errors转换为Series\n",
    "y_test_series = pd.DataFrame(y_test)\n",
    "relative_errors_series = pd.DataFrame(relative_errors)\n",
    "\n",
    "# 统计relative_errors中大于0.1的数量\n",
    "count_greater_than_0_1 = (relative_errors > 0.1).sum()\n",
    "\n",
    "# 统计relative_errors中小于等于0.1的数量\n",
    "count_less_than_or_equal_to_0_1 = (relative_errors <= 0.1).sum()\n",
    "\n",
    "print(f\"大于0.1的数量：{count_greater_than_0_1}\")\n",
    "print(f\"小于等于0.1的数量：{count_less_than_or_equal_to_0_1}\")\n",
    "print('合格率：', count_less_than_or_equal_to_0_1/(count_less_than_or_equal_to_0_1+count_greater_than_0_1))"
   ]
  }
 ],
 "metadata": {
  "kernelspec": {
   "display_name": "base",
   "language": "python",
   "name": "python3"
  },
  "language_info": {
   "codemirror_mode": {
    "name": "ipython",
    "version": 3
   },
   "file_extension": ".py",
   "mimetype": "text/x-python",
   "name": "python",
   "nbconvert_exporter": "python",
   "pygments_lexer": "ipython3",
   "version": "3.9.12"
  },
  "orig_nbformat": 4
 },
 "nbformat": 4,
 "nbformat_minor": 2
}
